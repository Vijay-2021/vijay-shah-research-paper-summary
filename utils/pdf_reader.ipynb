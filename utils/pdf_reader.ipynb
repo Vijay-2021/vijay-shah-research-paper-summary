{
 "cells": [
  {
   "cell_type": "code",
   "execution_count": 1,
   "metadata": {},
   "outputs": [],
   "source": [
    "import PyPDF2\n",
    "import requests"
   ]
  },
  {
   "cell_type": "code",
   "execution_count": 2,
   "metadata": {},
   "outputs": [],
   "source": [
    "def download_from_link(url, name = \"\", extension=\"pdf\"):\n",
    "    if name == \"\":\n",
    "        name = url\n",
    "    if not name.endswith(extension):\n",
    "        name += extension\n",
    "    r = requests.get(url, allow_redirects=True)\n",
    "    file = open(name, \"wb\")\n",
    "    file.write(r.content)\n",
    "    file.close()"
   ]
  },
  {
   "cell_type": "code",
   "execution_count": 31,
   "metadata": {},
   "outputs": [],
   "source": [
    "download_from_link(\"https://arxiv.org/pdf/1706.03762.pdf\", \"transformer-paper.pdf\")"
   ]
  },
  {
   "cell_type": "code",
   "execution_count": 3,
   "metadata": {},
   "outputs": [],
   "source": [
    "def read_pdf(input_f, output_f, output_extension=\".txt\"):\n",
    "    if not output_f.endswith(output_extension):\n",
    "        output_f += output_extension\n",
    "    pdf_file =open(input_f,'rb')\n",
    "    pdfreader=PyPDF2.PdfReader(pdf_file)\n",
    "    output_file = open(output_f, \"w\")\n",
    "    page_ct = len(pdfreader.pages)\n",
    "    print(\"page count: \", page_ct)\n",
    "    for i in range(page_ct):\n",
    "        curr_page = pdfreader.pages[i]\n",
    "        page_text = curr_page.extract_text()\n",
    "        output_file.write(page_text)\n",
    "        output_file.write(\"\\n\\n\\n\\n\\n\\n\")\n",
    "    output_file.close()\n",
    "    pdf_file.close()"
   ]
  },
  {
   "cell_type": "code",
   "execution_count": 38,
   "metadata": {},
   "outputs": [
    {
     "name": "stdout",
     "output_type": "stream",
     "text": [
      "page count:  15\n"
     ]
    }
   ],
   "source": [
    "read_pdf(\"transformer-paper.pdf\", \"transformer-paper\")"
   ]
  },
  {
   "cell_type": "code",
   "execution_count": null,
   "metadata": {},
   "outputs": [],
   "source": [
    "def download_and_read_pdf(url, url_fname, output_fname, extension=\"pdf\",output_extension=\".txt\"):\n",
    "    download_from_link(url, url_fname, extension)\n",
    "    read_pdf(url_fname, output_fname, output_extension)"
   ]
  },
  {
   "cell_type": "code",
   "execution_count": 5,
   "metadata": {},
   "outputs": [
    {
     "name": "stdout",
     "output_type": "stream",
     "text": [
      "page count:  15\n"
     ]
    }
   ],
   "source": [
    "download_and_read_pdf(\"https://arxiv.org/pdf/1706.03762.pdf\", \"tp.pdf\", \"tf-text\")"
   ]
  },
  {
   "cell_type": "code",
   "execution_count": null,
   "metadata": {},
   "outputs": [],
   "source": []
  }
 ],
 "metadata": {
  "kernelspec": {
   "display_name": "tf",
   "language": "python",
   "name": "python3"
  },
  "language_info": {
   "codemirror_mode": {
    "name": "ipython",
    "version": 3
   },
   "file_extension": ".py",
   "mimetype": "text/x-python",
   "name": "python",
   "nbconvert_exporter": "python",
   "pygments_lexer": "ipython3",
   "version": "3.9.18"
  }
 },
 "nbformat": 4,
 "nbformat_minor": 2
}
